{
 "cells": [
  {
   "cell_type": "code",
   "execution_count": 1,
   "metadata": {},
   "outputs": [],
   "source": [
    "from search import Search\n",
    "from accessweb import Lazada, Shopee, Ebay\n",
    "import matplotlib.pyplot as plt\n",
    "import seaborn as sns\n",
    "import pandas as pd"
   ]
  },
  {
   "cell_type": "code",
   "execution_count": 2,
   "metadata": {
    "scrolled": true
   },
   "outputs": [
    {
     "name": "stdout",
     "output_type": "stream",
     "text": [
      "Hola! Please enter an item you want to search: Herschel Little America\n"
     ]
    }
   ],
   "source": [
    "item = Search()"
   ]
  },
  {
   "cell_type": "code",
   "execution_count": 3,
   "metadata": {},
   "outputs": [
    {
     "name": "stdout",
     "output_type": "stream",
     "text": [
      "REQUEST INITIATED FOR SHOPEE **\n"
     ]
    }
   ],
   "source": [
    "obj_sho = Shopee(item.getName())\n",
    "df_sho = obj_sho.letsAutomateThis()"
   ]
  },
  {
   "cell_type": "code",
   "execution_count": 4,
   "metadata": {},
   "outputs": [
    {
     "name": "stdout",
     "output_type": "stream",
     "text": [
      "REQUEST INITIATED FOR EBAY **\n",
      "Page 1\n",
      "Page 2\n",
      "Page 3\n",
      "Page 4\n",
      "Page 5\n",
      "Page 6\n",
      "Page 7\n",
      "Page 8\n",
      "Page 9\n",
      "Page 10\n"
     ]
    }
   ],
   "source": [
    "obj_eba = Ebay(item.getName())\n",
    "df_eba = obj_eba.letsAutomateThis()"
   ]
  },
  {
   "cell_type": "code",
   "execution_count": 5,
   "metadata": {},
   "outputs": [
    {
     "name": "stdout",
     "output_type": "stream",
     "text": [
      "CHROME DRIVER SESSION START **\n",
      "WEBDRIVER SEARCH INITIATED FOR LAZADA **\n",
      "40 titles in current page\n",
      "40 prices in current page\n",
      "Total Title count: 40\n",
      "Total Price count: 40\n",
      "Finalizing . . .\n",
      "Next page clicked! Loading . . .\n",
      "40 titles in current page\n",
      "40 prices in current page\n",
      "Total Title count: 80\n",
      "Total Price count: 80\n",
      "Finalizing . . .\n",
      "Next page clicked! Loading . . .\n",
      "28 titles in current page\n",
      "28 prices in current page\n",
      "Total Title count: 108\n",
      "Total Price count: 108\n",
      "Finalizing . . .\n",
      "<< You have reached the end of the search result. >>\n",
      "CHROME DRIVER SESSION END **\n"
     ]
    }
   ],
   "source": [
    "obj_laz = Lazada(item.getName())\n",
    "df_laz = obj_laz.letsAutomateThis()"
   ]
  },
  {
   "cell_type": "code",
   "execution_count": 6,
   "metadata": {},
   "outputs": [],
   "source": [
    "df = pd.concat([df_sho,df_eba,df_laz])"
   ]
  },
  {
   "cell_type": "code",
   "execution_count": 7,
   "metadata": {},
   "outputs": [
    {
     "name": "stdout",
     "output_type": "stream",
     "text": [
      "\n",
      " WEB PAGE STATISTICS FOR SEARCHED ITEM\n",
      "        itemPrice                                                       \\\n",
      "            count         mean          std      min      25%      50%   \n",
      "webPage                                                                  \n",
      "Ebay        410.0  4136.508927  1384.890855  1250.38  3100.00  4395.79   \n",
      "Lazada      108.0  3120.008981  1933.388740  1342.00  1787.93  1818.00   \n",
      "Shopee      100.0  2613.390000  1226.122004   500.00  1500.00  2500.00   \n",
      "\n",
      "                           \n",
      "             75%      max  \n",
      "webPage                    \n",
      "Ebay     4951.49  7501.75  \n",
      "Lazada   4635.00  9117.00  \n",
      "Shopee   3500.00  5500.00   \n",
      "\n"
     ]
    }
   ],
   "source": [
    "print('\\n WEB PAGE STATISTICS FOR SEARCHED ITEM')\n",
    "print(df.groupby(['webPage']).describe(),'\\n')"
   ]
  },
  {
   "cell_type": "code",
   "execution_count": 8,
   "metadata": {},
   "outputs": [
    {
     "data": {
      "image/png": "[encoded data removed]",
      "text/plain": [
       "<Figure size 432x288 with 1 Axes>"
      ]
     },
     "metadata": {},
     "output_type": "display_data"
    }
   ],
   "source": [
    "sns.set_style('darkgrid')\n",
    "plot_title = 'PRICE DISTRIBUTION COMPARISON OF ' + item.getName()\n",
    "sns.boxplot(data=df,x='webPage',y='itemPrice').set_title(plot_title)\n",
    "plt.show()"
   ]
  }
 ],
 "metadata": {
  "kernelspec": {
   "display_name": "Python 3",
   "language": "python",
   "name": "python3"
  },
  "language_info": {
   "codemirror_mode": {
    "name": "ipython",
    "version": 3
   },
   "file_extension": ".py",
   "mimetype": "text/x-python",
   "name": "python",
   "nbconvert_exporter": "python",
   "pygments_lexer": "ipython3",
   "version": "3.7.3"
  }
 },
 "nbformat": 4,
 "nbformat_minor": 2
}
